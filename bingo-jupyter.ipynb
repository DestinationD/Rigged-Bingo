{
 "metadata": {
  "language_info": {
   "codemirror_mode": {
    "name": "ipython",
    "version": 3
   },
   "file_extension": ".py",
   "mimetype": "text/x-python",
   "name": "python",
   "nbconvert_exporter": "python",
   "pygments_lexer": "ipython3",
   "version": "3.7.9-final"
  },
  "orig_nbformat": 2,
  "kernelspec": {
   "name": "python3",
   "display_name": "Python 3.7.9 64-bit",
   "metadata": {
    "interpreter": {
     "hash": "acc4803f820b62db0d99d30a31f523af2a7747d58ad02de2d4bc660587ebc1c1"
    }
   }
  }
 },
 "nbformat": 4,
 "nbformat_minor": 2,
 "cells": [
  {
   "cell_type": "code",
   "execution_count": 4,
   "metadata": {},
   "outputs": [
    {
     "output_type": "stream",
     "name": "stdout",
     "text": [
      "[32, 10, 8, 23, 29]\n29\n"
     ]
    }
   ],
   "source": [
    "from random import choice, getrandbits, randint\n",
    "\n",
    "roll_record = []\n",
    "\n",
    "def draw(biased):\n",
    "    # assumption: biased is boolean or 0 & 1\n",
    "    if biased:\n",
    "        return # return random_draw()\n",
    "    elif not biased:\n",
    "        return randint(1,36)\n",
    "    else:\n",
    "        print(\"You messed up somewhere!\")\n",
    "\n",
    "\n",
    "def check_win(board):\n",
    "    # We know our win conditions, so check\n",
    "    # the board\n",
    "    lines = 0\n",
    "    # Check horizontal and vertical lines\n",
    "    for i in range(6):\n",
    "        \n",
    "        if(all(x in roll_record for x in board[:][i])):\n",
    "            lines += 1\n",
    "        \n",
    "        if(all(x in roll_record for x in board[i][:])):\n",
    "            lines += 1\n",
    "    \n",
    "    # Check diagonals\n",
    "    diag = [board[i][i] for i in range(6)]\n",
    "    ndiag = [board[i][~i] for i in range(6)]\n",
    "    \n",
    "    if(all(x in roll_record for x in diag)):\n",
    "        lines += 1\n",
    "    if(all(x in roll_record for x in ndiag)):\n",
    "        lines += 1\n",
    "    \n",
    "    if (lines == 0):\n",
    "        print(\"No lines have been formed.\")\n",
    "    elif (lines < 14):\n",
    "        print(f'{lines} lines have been formed!')\n",
    "    else:\n",
    "        print(\"The board has been cleared!\")\n",
    "        \n",
    "def roll(runs):\n",
    "    \"\"\"\n",
    "    Creates a list equal to length of the parameter, filled with randomly drawn numbers.\n",
    "    \"\"\"\n",
    "    roll_length = runs\n",
    "    for x in range(roll_length):\n",
    "        roll_record.append(draw(0))\n",
    "    print(roll_record)\n",
    "    \n",
    "\n",
    "roll(5)\n",
    "print(roll_record[-1])"
   ]
  }
 ]
}