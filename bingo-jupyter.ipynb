{
 "metadata": {
  "language_info": {
   "codemirror_mode": {
    "name": "ipython",
    "version": 3
   },
   "file_extension": ".py",
   "mimetype": "text/x-python",
   "name": "python",
   "nbconvert_exporter": "python",
   "pygments_lexer": "ipython3",
   "version": "3.7.9-final"
  },
  "orig_nbformat": 2,
  "kernelspec": {
   "name": "python3",
   "display_name": "Python 3.7.9 64-bit",
   "metadata": {
    "interpreter": {
     "hash": "acc4803f820b62db0d99d30a31f523af2a7747d58ad02de2d4bc660587ebc1c1"
    }
   }
  }
 },
 "nbformat": 4,
 "nbformat_minor": 2,
 "cells": [
  {
   "cell_type": "code",
   "execution_count": 4,
   "metadata": {},
   "outputs": [
    {
     "output_type": "error",
     "ename": "NameError",
     "evalue": "name 'roll_record' is not defined",
     "traceback": [
      "\u001b[1;31m---------------------------------------------------------------------------\u001b[0m",
      "\u001b[1;31mNameError\u001b[0m                                 Traceback (most recent call last)",
      "\u001b[1;32m<ipython-input-4-b2720f915e3c>\u001b[0m in \u001b[0;36m<module>\u001b[1;34m\u001b[0m\n\u001b[0;32m     40\u001b[0m \u001b[1;33m\u001b[0m\u001b[0m\n\u001b[0;32m     41\u001b[0m \u001b[1;33m\u001b[0m\u001b[0m\n\u001b[1;32m---> 42\u001b[1;33m \u001b[0mroll\u001b[0m\u001b[1;33m(\u001b[0m\u001b[1;36m5\u001b[0m\u001b[1;33m)\u001b[0m\u001b[1;33m\u001b[0m\u001b[1;33m\u001b[0m\u001b[0m\n\u001b[0m\u001b[0;32m     43\u001b[0m \u001b[0mprint\u001b[0m\u001b[1;33m(\u001b[0m\u001b[0mroll_record\u001b[0m\u001b[1;33m[\u001b[0m\u001b[1;33m-\u001b[0m\u001b[1;36m1\u001b[0m\u001b[1;33m]\u001b[0m\u001b[1;33m)\u001b[0m\u001b[1;33m\u001b[0m\u001b[1;33m\u001b[0m\u001b[0m\n",
      "\u001b[1;32m<ipython-input-4-b2720f915e3c>\u001b[0m in \u001b[0;36mroll\u001b[1;34m(runs)\u001b[0m\n\u001b[0;32m     36\u001b[0m     \u001b[0mroll_length\u001b[0m \u001b[1;33m=\u001b[0m \u001b[0mruns\u001b[0m\u001b[1;33m\u001b[0m\u001b[1;33m\u001b[0m\u001b[0m\n\u001b[0;32m     37\u001b[0m     \u001b[1;32mfor\u001b[0m \u001b[0mx\u001b[0m \u001b[1;32min\u001b[0m \u001b[0mrange\u001b[0m\u001b[1;33m(\u001b[0m\u001b[0mroll_length\u001b[0m\u001b[1;33m)\u001b[0m\u001b[1;33m:\u001b[0m\u001b[1;33m\u001b[0m\u001b[1;33m\u001b[0m\u001b[0m\n\u001b[1;32m---> 38\u001b[1;33m         \u001b[0mroll_record\u001b[0m\u001b[1;33m.\u001b[0m\u001b[0mappend\u001b[0m\u001b[1;33m(\u001b[0m\u001b[0mdraw\u001b[0m\u001b[1;33m(\u001b[0m\u001b[1;36m0\u001b[0m\u001b[1;33m)\u001b[0m\u001b[1;33m)\u001b[0m\u001b[1;33m\u001b[0m\u001b[1;33m\u001b[0m\u001b[0m\n\u001b[0m\u001b[0;32m     39\u001b[0m     \u001b[0mprint\u001b[0m\u001b[1;33m(\u001b[0m\u001b[0mroll_record\u001b[0m\u001b[1;33m)\u001b[0m\u001b[1;33m\u001b[0m\u001b[1;33m\u001b[0m\u001b[0m\n\u001b[0;32m     40\u001b[0m \u001b[1;33m\u001b[0m\u001b[0m\n",
      "\u001b[1;31mNameError\u001b[0m: name 'roll_record' is not defined"
     ]
    }
   ],
   "source": [
    "from random import choice, getrandbits, randint\n",
    "# import matplotlib.pyplot as plt\n",
    "\n",
    "def draw(biased):\n",
    "    # assumption: biased is boolean or 0 & 1\n",
    "    if bloated:\n",
    "        return # return random_draw()\n",
    "    elif random:\n",
    "        draw_number = randint(1,36)\n",
    "        roll_record.append(draw_number)\n",
    "        return draw_number\n",
    "    else:\n",
    "        print(\"You messed up somewhere!\")\n",
    "\n",
    "\n",
    "def play_bingo(type):\n",
    "    # For many rounds of bingo, lines are of no use to us.\n",
    "    # Only (36-N) unique draws and (N * 10) dupes\n",
    "    board = 0\n",
    "    dupe_count = 0\n",
    "    draw_record = []\n",
    "    # Or board, dupe_count, draw_record = 0, 0, []\n",
    "    while board < 36:\n",
    "        draws += 1\n",
    "        if draw(type) in draw_record:\n",
    "            dupe_count += 1\n",
    "        else:\n",
    "            board += 1\n",
    "        if board + math.floor(dupe_count/10) == 36:\n",
    "            print(\"Bingo fully cleared!\")\n",
    "        return draws\n",
    "        \n",
    "def bingo_sim(samples, type):\n",
    "    draw_count = []\n",
    "    for i in range(samples):\n",
    "        draw_count.append(play_bingo(type))\n",
    "    x = list(range(50,105))\n",
    "    plt.hist(draw_count, bins = x)\n",
    "\n",
    "if __name__ == \"__main__:\n",
    "    x = list(range(50,105))\n",
    "    bingo_sim(1000, random)"
   ]
  }
 ]
}